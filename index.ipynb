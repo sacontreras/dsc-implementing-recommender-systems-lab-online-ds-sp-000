{
 "cells": [
  {
   "cell_type": "markdown",
   "metadata": {},
   "source": [
    "# Implementing Recommender Systems - Lab\n",
    "\n",
    "## Introduction\n",
    "\n",
    "In this lab, you'll practice creating a recommender system model using `surprise`. You'll also get the chance to create a more complete recommender system pipeline to obtain the top recommendations for a specific user.\n"
   ]
  },
  {
   "cell_type": "markdown",
   "metadata": {},
   "source": [
    "## Objectives\n",
    "\n",
    "In this lab you will: \n",
    "\n",
    "- Use surprise's built-in reader class to process data to work with recommender algorithms \n",
    "- Obtain a prediction for a specific user for a particular item \n",
    "- Introduce a new user with rating to a rating matrix and make recommendations for them \n",
    "- Create a function that will return the top n recommendations for a user \n"
   ]
  },
  {
   "cell_type": "markdown",
   "metadata": {},
   "source": [
    "For this lab, we will be using the famous 1M movie dataset. It contains a collection of user ratings for many different movies. In the last lesson, you were exposed to working with `surprise` datasets. In this lab, you will also go through the process of reading in a dataset into the `surprise` dataset format. To begin with, load the dataset into a Pandas DataFrame. Determine which columns are necessary for your recommendation system and drop any extraneous ones."
   ]
  },
  {
   "cell_type": "code",
   "execution_count": 1,
   "metadata": {},
   "outputs": [
    {
     "name": "stdout",
     "output_type": "stream",
     "text": [
      "<class 'pandas.core.frame.DataFrame'>\n",
      "RangeIndex: 100836 entries, 0 to 100835\n",
      "Data columns (total 4 columns):\n",
      " #   Column     Non-Null Count   Dtype  \n",
      "---  ------     --------------   -----  \n",
      " 0   userId     100836 non-null  int64  \n",
      " 1   movieId    100836 non-null  int64  \n",
      " 2   rating     100836 non-null  float64\n",
      " 3   timestamp  100836 non-null  int64  \n",
      "dtypes: float64(1), int64(3)\n",
      "memory usage: 3.1 MB\n"
     ]
    }
   ],
   "source": [
    "import pandas as pd\n",
    "df = pd.read_csv('./ml-latest-small/ratings.csv')\n",
    "df.info()"
   ]
  },
  {
   "cell_type": "code",
   "execution_count": 2,
   "metadata": {},
   "outputs": [
    {
     "data": {
      "text/html": [
       "<div>\n",
       "<style scoped>\n",
       "    .dataframe tbody tr th:only-of-type {\n",
       "        vertical-align: middle;\n",
       "    }\n",
       "\n",
       "    .dataframe tbody tr th {\n",
       "        vertical-align: top;\n",
       "    }\n",
       "\n",
       "    .dataframe thead th {\n",
       "        text-align: right;\n",
       "    }\n",
       "</style>\n",
       "<table border=\"1\" class=\"dataframe\">\n",
       "  <thead>\n",
       "    <tr style=\"text-align: right;\">\n",
       "      <th></th>\n",
       "      <th>userId</th>\n",
       "      <th>movieId</th>\n",
       "      <th>rating</th>\n",
       "    </tr>\n",
       "  </thead>\n",
       "  <tbody>\n",
       "    <tr>\n",
       "      <th>count</th>\n",
       "      <td>100836.000000</td>\n",
       "      <td>100836.000000</td>\n",
       "      <td>100836.000000</td>\n",
       "    </tr>\n",
       "    <tr>\n",
       "      <th>mean</th>\n",
       "      <td>326.127564</td>\n",
       "      <td>19435.295718</td>\n",
       "      <td>3.501557</td>\n",
       "    </tr>\n",
       "    <tr>\n",
       "      <th>std</th>\n",
       "      <td>182.618491</td>\n",
       "      <td>35530.987199</td>\n",
       "      <td>1.042529</td>\n",
       "    </tr>\n",
       "    <tr>\n",
       "      <th>min</th>\n",
       "      <td>1.000000</td>\n",
       "      <td>1.000000</td>\n",
       "      <td>0.500000</td>\n",
       "    </tr>\n",
       "    <tr>\n",
       "      <th>25%</th>\n",
       "      <td>177.000000</td>\n",
       "      <td>1199.000000</td>\n",
       "      <td>3.000000</td>\n",
       "    </tr>\n",
       "    <tr>\n",
       "      <th>50%</th>\n",
       "      <td>325.000000</td>\n",
       "      <td>2991.000000</td>\n",
       "      <td>3.500000</td>\n",
       "    </tr>\n",
       "    <tr>\n",
       "      <th>75%</th>\n",
       "      <td>477.000000</td>\n",
       "      <td>8122.000000</td>\n",
       "      <td>4.000000</td>\n",
       "    </tr>\n",
       "    <tr>\n",
       "      <th>max</th>\n",
       "      <td>610.000000</td>\n",
       "      <td>193609.000000</td>\n",
       "      <td>5.000000</td>\n",
       "    </tr>\n",
       "  </tbody>\n",
       "</table>\n",
       "</div>"
      ],
      "text/plain": [
       "              userId        movieId         rating\n",
       "count  100836.000000  100836.000000  100836.000000\n",
       "mean      326.127564   19435.295718       3.501557\n",
       "std       182.618491   35530.987199       1.042529\n",
       "min         1.000000       1.000000       0.500000\n",
       "25%       177.000000    1199.000000       3.000000\n",
       "50%       325.000000    2991.000000       3.500000\n",
       "75%       477.000000    8122.000000       4.000000\n",
       "max       610.000000  193609.000000       5.000000"
      ]
     },
     "execution_count": 2,
     "metadata": {},
     "output_type": "execute_result"
    }
   ],
   "source": [
    "# Drop unnecessary columns\n",
    "new_df = df.drop(['timestamp'], axis=1)\n",
    "new_df.describe()"
   ]
  },
  {
   "cell_type": "markdown",
   "metadata": {},
   "source": [
    "It's now time to transform the dataset into something compatible with `surprise`. In order to do this, you're going to need `Reader` and `Dataset` classes. There's a method in `Dataset` specifically for loading dataframes."
   ]
  },
  {
   "cell_type": "code",
   "execution_count": 3,
   "metadata": {},
   "outputs": [],
   "source": [
    "from surprise import Reader, Dataset\n",
    "# read in values as Surprise dataset \n",
    "reader = Reader(rating_scale=(0.5, 5))\n",
    "data = Dataset.load_from_df(new_df[['userId', 'movieId', 'rating']], reader)"
   ]
  },
  {
   "cell_type": "markdown",
   "metadata": {},
   "source": [
    "Let's look at how many users and items we have in our dataset. If using neighborhood-based methods, this will help us determine whether or not we should perform user-user or item-item similarity"
   ]
  },
  {
   "cell_type": "code",
   "execution_count": 4,
   "metadata": {},
   "outputs": [
    {
     "name": "stdout",
     "output_type": "stream",
     "text": [
      "Number of users:  610 \n",
      "\n",
      "Number of items:  9724\n"
     ]
    }
   ],
   "source": [
    "dataset = data.build_full_trainset()\n",
    "print('Number of users: ', dataset.n_users, '\\n')\n",
    "print('Number of items: ', dataset.n_items)"
   ]
  },
  {
   "cell_type": "markdown",
   "metadata": {},
   "source": [
    "## Determine the best model \n",
    "\n",
    "Now, compare the different models and see which ones perform best. For consistency sake, use RMSE to evaluate models. Remember to cross-validate! Can you get a model with a higher average RMSE on test data than 0.869?"
   ]
  },
  {
   "cell_type": "code",
   "execution_count": 5,
   "metadata": {},
   "outputs": [],
   "source": [
    "# importing relevant libraries\n",
    "from surprise.model_selection import cross_validate\n",
    "from surprise.prediction_algorithms import SVD\n",
    "from surprise.prediction_algorithms import KNNWithMeans, KNNBasic, KNNBaseline\n",
    "from surprise.model_selection import GridSearchCV\n",
    "import numpy as np"
   ]
  },
  {
   "cell_type": "code",
   "execution_count": 6,
   "metadata": {},
   "outputs": [],
   "source": [
    "## Perform a gridsearch with SVD\n",
    "# ⏰ This cell may take several minutes to run\n",
    "param_grid = {\n",
    "    'n_factors': [20, 50, 100],\n",
    "    'reg_all': [0.02, 0.05, 0.1]\n",
    "}\n",
    "gs_svd = GridSearchCV(SVD, param_grid=param_grid, n_jobs=-1)\n",
    "gs_svd.fit(data)"
   ]
  },
  {
   "cell_type": "code",
   "execution_count": 7,
   "metadata": {},
   "outputs": [
    {
     "name": "stdout",
     "output_type": "stream",
     "text": [
      "grid search best score:\n",
      "\t{'rmse': 0.8692759710639336, 'mae': 0.6681980146244146}\n",
      "best params:\n",
      "\t{'rmse': {'n_factors': 100, 'reg_all': 0.05}, 'mae': {'n_factors': 20, 'reg_all': 0.02}}\n"
     ]
    }
   ],
   "source": [
    "# print out optimal parameters for SVD after GridSearch\n",
    "print(f\"grid search best score:\\n\\t{gs_svd.best_score}\")\n",
    "print(f\"best params:\\n\\t{gs_svd.best_params}\")"
   ]
  },
  {
   "cell_type": "code",
   "execution_count": 8,
   "metadata": {},
   "outputs": [
    {
     "data": {
      "text/plain": [
       "{'test_rmse': array([0.9754431 , 0.97513365, 0.97647421, 0.97396211, 0.96707923]),\n",
       " 'test_mae': array([0.75306096, 0.75219953, 0.75407193, 0.75397136, 0.74496152]),\n",
       " 'fit_time': (1.1758737564086914,\n",
       "  1.1576571464538574,\n",
       "  1.1224555969238281,\n",
       "  0.9199132919311523,\n",
       "  0.7761974334716797),\n",
       " 'test_time': (2.87648606300354,\n",
       "  2.993947744369507,\n",
       "  2.8967156410217285,\n",
       "  2.9332337379455566,\n",
       "  2.0765280723571777)}"
      ]
     },
     "execution_count": 8,
     "metadata": {},
     "output_type": "execute_result"
    }
   ],
   "source": [
    "# cross validating with KNNBasic\n",
    "knn_basic = KNNBasic(sim_options={'name':'pearson', 'user_based':True})\n",
    "cv_knn_basic = cross_validate(knn_basic, data, n_jobs=-1)\n",
    "cv_knn_basic"
   ]
  },
  {
   "cell_type": "code",
   "execution_count": 9,
   "metadata": {},
   "outputs": [
    {
     "data": {
      "text/plain": [
       "0.9736184607598066"
      ]
     },
     "execution_count": 9,
     "metadata": {},
     "output_type": "execute_result"
    }
   ],
   "source": [
    "# print out the average RMSE score for the test set\n",
    "np.mean(cv_knn_basic['test_rmse'])"
   ]
  },
  {
   "cell_type": "code",
   "execution_count": 10,
   "metadata": {},
   "outputs": [
    {
     "data": {
      "text/plain": [
       "{'test_rmse': array([0.8828375 , 0.87941396, 0.88042182, 0.87632532, 0.87433672]),\n",
       " 'test_mae': array([0.67463391, 0.6702135 , 0.6724693 , 0.66952366, 0.66678101]),\n",
       " 'fit_time': (1.321516513824463,\n",
       "  1.393965244293213,\n",
       "  1.2362799644470215,\n",
       "  1.0144338607788086,\n",
       "  0.8633108139038086),\n",
       " 'test_time': (3.69370698928833,\n",
       "  3.8479959964752197,\n",
       "  3.8185555934906006,\n",
       "  3.9144175052642822,\n",
       "  3.3873555660247803)}"
      ]
     },
     "execution_count": 10,
     "metadata": {},
     "output_type": "execute_result"
    }
   ],
   "source": [
    "# cross validating with KNNBaseline\n",
    "knn_baseline = KNNBaseline(sim_options={'name':'pearson', 'user_based':True})\n",
    "cv_knn_baseline = cross_validate(knn_baseline, data, n_jobs=-1)\n",
    "cv_knn_baseline"
   ]
  },
  {
   "cell_type": "code",
   "execution_count": 11,
   "metadata": {},
   "outputs": [
    {
     "data": {
      "text/plain": [
       "0.8786670632880785"
      ]
     },
     "execution_count": 11,
     "metadata": {},
     "output_type": "execute_result"
    }
   ],
   "source": [
    "# print out the average score for the test set\n",
    "np.mean(cv_knn_baseline['test_rmse'])"
   ]
  },
  {
   "cell_type": "markdown",
   "metadata": {},
   "source": [
    "Based off these outputs, it seems like the best performing model is the SVD model with `n_factors = 50` and a regularization rate of 0.05. Use that model or if you found one that performs better, feel free to use that to make some predictions."
   ]
  },
  {
   "cell_type": "markdown",
   "metadata": {},
   "source": [
    "## Making Recommendations\n",
    "\n",
    "It's important that the output for the recommendation is interpretable to people. Rather than returning the `movie_id` values, it would be far more valuable to return the actual title of the movie. As a first step, let's read in the movies to a dataframe and take a peek at what information we have about them."
   ]
  },
  {
   "cell_type": "code",
   "execution_count": 12,
   "metadata": {},
   "outputs": [],
   "source": [
    "df_movies = pd.read_csv('./ml-latest-small/movies.csv')"
   ]
  },
  {
   "cell_type": "code",
   "execution_count": 13,
   "metadata": {
    "scrolled": true
   },
   "outputs": [
    {
     "data": {
      "text/html": [
       "<div>\n",
       "<style scoped>\n",
       "    .dataframe tbody tr th:only-of-type {\n",
       "        vertical-align: middle;\n",
       "    }\n",
       "\n",
       "    .dataframe tbody tr th {\n",
       "        vertical-align: top;\n",
       "    }\n",
       "\n",
       "    .dataframe thead th {\n",
       "        text-align: right;\n",
       "    }\n",
       "</style>\n",
       "<table border=\"1\" class=\"dataframe\">\n",
       "  <thead>\n",
       "    <tr style=\"text-align: right;\">\n",
       "      <th></th>\n",
       "      <th>movieId</th>\n",
       "      <th>title</th>\n",
       "      <th>genres</th>\n",
       "    </tr>\n",
       "  </thead>\n",
       "  <tbody>\n",
       "    <tr>\n",
       "      <th>0</th>\n",
       "      <td>1</td>\n",
       "      <td>Toy Story (1995)</td>\n",
       "      <td>Adventure|Animation|Children|Comedy|Fantasy</td>\n",
       "    </tr>\n",
       "    <tr>\n",
       "      <th>1</th>\n",
       "      <td>2</td>\n",
       "      <td>Jumanji (1995)</td>\n",
       "      <td>Adventure|Children|Fantasy</td>\n",
       "    </tr>\n",
       "    <tr>\n",
       "      <th>2</th>\n",
       "      <td>3</td>\n",
       "      <td>Grumpier Old Men (1995)</td>\n",
       "      <td>Comedy|Romance</td>\n",
       "    </tr>\n",
       "    <tr>\n",
       "      <th>3</th>\n",
       "      <td>4</td>\n",
       "      <td>Waiting to Exhale (1995)</td>\n",
       "      <td>Comedy|Drama|Romance</td>\n",
       "    </tr>\n",
       "    <tr>\n",
       "      <th>4</th>\n",
       "      <td>5</td>\n",
       "      <td>Father of the Bride Part II (1995)</td>\n",
       "      <td>Comedy</td>\n",
       "    </tr>\n",
       "  </tbody>\n",
       "</table>\n",
       "</div>"
      ],
      "text/plain": [
       "   movieId                               title  \\\n",
       "0        1                    Toy Story (1995)   \n",
       "1        2                      Jumanji (1995)   \n",
       "2        3             Grumpier Old Men (1995)   \n",
       "3        4            Waiting to Exhale (1995)   \n",
       "4        5  Father of the Bride Part II (1995)   \n",
       "\n",
       "                                        genres  \n",
       "0  Adventure|Animation|Children|Comedy|Fantasy  \n",
       "1                   Adventure|Children|Fantasy  \n",
       "2                               Comedy|Romance  \n",
       "3                         Comedy|Drama|Romance  \n",
       "4                                       Comedy  "
      ]
     },
     "execution_count": 13,
     "metadata": {},
     "output_type": "execute_result"
    }
   ],
   "source": [
    "df_movies.head()"
   ]
  },
  {
   "cell_type": "markdown",
   "metadata": {},
   "source": [
    "## Making simple predictions\n",
    "Just as a reminder, let's look at how you make a prediction for an individual user and item. First, we'll fit the SVD model we had from before."
   ]
  },
  {
   "cell_type": "code",
   "execution_count": 14,
   "metadata": {},
   "outputs": [
    {
     "data": {
      "text/plain": [
       "<surprise.prediction_algorithms.matrix_factorization.SVD at 0x7f99d7675e50>"
      ]
     },
     "execution_count": 14,
     "metadata": {},
     "output_type": "execute_result"
    }
   ],
   "source": [
    "svd = SVD(n_factors= 50, reg_all=0.05)\n",
    "svd.fit(dataset)"
   ]
  },
  {
   "cell_type": "code",
   "execution_count": 15,
   "metadata": {},
   "outputs": [
    {
     "data": {
      "text/plain": [
       "Prediction(uid=2, iid=4, r_ui=None, est=2.97235234775831, details={'was_impossible': False})"
      ]
     },
     "execution_count": 15,
     "metadata": {},
     "output_type": "execute_result"
    }
   ],
   "source": [
    "svd.predict(2, 4)"
   ]
  },
  {
   "cell_type": "markdown",
   "metadata": {},
   "source": [
    "This prediction value is a tuple and each of the values within it can be accessed by way of indexing. Now let's put our knowledge of recommendation systems to do something interesting: making predictions for a new user!"
   ]
  },
  {
   "cell_type": "markdown",
   "metadata": {},
   "source": [
    "## Obtaining User Ratings \n",
    "\n",
    "It's great that we have working models and everything, but wouldn't it be nice to get to recommendations specifically tailored to your preferences? That's what we'll be doing now. The first step is to create a function that allows us to pick randomly selected movies. The function should present users with a movie and ask them to rate it. If they have not seen the movie, they should be able to skip rating it. \n",
    "\n",
    "The function `movie_rater()` should take as parameters: \n",
    "\n",
    "* `movie_df`: DataFrame - a dataframe containing the movie ids, name of movie, and genres\n",
    "* `num`: int - number of ratings\n",
    "* `genre`: string - a specific genre from which to draw movies\n",
    "\n",
    "The function returns:\n",
    "* rating_list : list - a collection of dictionaries in the format of {'userId': int , 'movieId': int , 'rating': float}\n",
    "\n",
    "#### This function is optional, but fun :) "
   ]
  },
  {
   "cell_type": "code",
   "execution_count": 16,
   "metadata": {},
   "outputs": [],
   "source": [
    "def movie_rater(userid, num, genre=\"\"):\n",
    "    rating_list = []\n",
    "    \n",
    "    if num > 0:\n",
    "        genre0 = str(genre)\n",
    "        genre = genre.lower().strip()\n",
    "\n",
    "        ratings = {}\n",
    "        i = 0\n",
    "        while i < num:\n",
    "            s_genre_desc = \"\"\n",
    "\n",
    "            # The first step is to randomly select a movie...\n",
    "            sample_movie = None\n",
    "            if len(genre) > 0:\n",
    "                subset = df_movies[df_movies['genres'].str.lower().str.contains(genre)]\n",
    "                if len(subset) > 0:\n",
    "                    sample_movie = df_movies[df_movies['genres'].str.lower().str.contains(genre)].sample(1)\n",
    "                else:\n",
    "                    s_genre_desc = f\" tagged with genre '{genre0}'\"\n",
    "            else:\n",
    "                sample_movie = df_movies.sample(1)\n",
    "\n",
    "            if sample_movie is not None:\n",
    "                skip = False\n",
    "                while True:\n",
    "                    try:\n",
    "                        print(f\"MOVIE {i+1}:\\n{sample_movie}\\n\")\n",
    "                        rating = input(\"Please rate this movie on a scale from 1 to 5, where 1 is the worst and 5 is the best... or 'n' to skip this one: \").strip().lower()\n",
    "                        skip = rating=='n'\n",
    "                        if not skip:\n",
    "                            rating = int(rating)\n",
    "                            if rating not in range(1,6):\n",
    "                                raise ValueError(f\"rating value must be an integer from 1 to 5\")\n",
    "                            d_rating = {\n",
    "                                'userId': userid,\n",
    "                                'movieId': sample_movie['movieId'].values[0],\n",
    "                                'rating': rating\n",
    "                            }\n",
    "                            rating_list.append(d_rating) \n",
    "                            print(f\"Thank you! Your rating has been recorded for MOVIE {i+1}:\\n\\t{d_rating}\\n\")\n",
    "                            i += 1\n",
    "                        break\n",
    "                    except Exception as e:\n",
    "                        print(f\"{e}\\n\")\n",
    "            else:\n",
    "                print(f\"No movies found{s_genre_desc}!\")\n",
    "                break\n",
    "\n",
    "            print()\n",
    "            \n",
    "    return rating_list"
   ]
  },
  {
   "cell_type": "code",
   "execution_count": 17,
   "metadata": {
    "scrolled": false
   },
   "outputs": [
    {
     "name": "stdout",
     "output_type": "stream",
     "text": [
      "MOVIE 1:\n",
      "      movieId                      title                    genres\n",
      "6477    52885  Paprika (Papurika) (2006)  Animation|Mystery|Sci-Fi\n",
      "\n",
      "Please rate this movie on a scale from 1 to 5, where 1 is the worst and 5 is the best... or 'n' to skip this one: n\n",
      "\n",
      "MOVIE 1:\n",
      "      movieId                                            title  \\\n",
      "5317     8830  Anacondas: The Hunt for the Blood Orchid (2004)   \n",
      "\n",
      "                                      genres  \n",
      "5317  Adventure|Drama|Horror|Sci-Fi|Thriller  \n",
      "\n",
      "Please rate this movie on a scale from 1 to 5, where 1 is the worst and 5 is the best... or 'n' to skip this one: 1\n",
      "Thank you! Your rating has been recorded for MOVIE 1:\n",
      "\t{'userId': 700, 'movieId': 8830, 'rating': 1}\n",
      "\n",
      "\n",
      "MOVIE 2:\n",
      "      movieId                                              title  \\\n",
      "5212     8500  Godzilla vs. Mechagodzilla (Gojira tai Mekagoj...   \n",
      "\n",
      "                    genres  \n",
      "5212  Action|Horror|Sci-Fi  \n",
      "\n",
      "Please rate this movie on a scale from 1 to 5, where 1 is the worst and 5 is the best... or 'n' to skip this one: n\n",
      "\n",
      "MOVIE 2:\n",
      "      movieId                               title            genres\n",
      "4983     7649  Babylon 5: In the Beginning (1998)  Adventure|Sci-Fi\n",
      "\n",
      "Please rate this movie on a scale from 1 to 5, where 1 is the worst and 5 is the best... or 'n' to skip this one: n\n",
      "\n",
      "MOVIE 2:\n",
      "      movieId                                      title  \\\n",
      "5631    27311  Batman Beyond: Return of the Joker (2000)   \n",
      "\n",
      "                                      genres  \n",
      "5631  Action|Animation|Crime|Sci-Fi|Thriller  \n",
      "\n",
      "Please rate this movie on a scale from 1 to 5, where 1 is the worst and 5 is the best... or 'n' to skip this one: 3\n",
      "Thank you! Your rating has been recorded for MOVIE 2:\n",
      "\t{'userId': 700, 'movieId': 27311, 'rating': 3}\n",
      "\n",
      "\n",
      "MOVIE 3:\n",
      "      movieId                               title  \\\n",
      "7122    71129  Green Lantern: First Flight (2009)   \n",
      "\n",
      "                                         genres  \n",
      "7122  Action|Adventure|Animation|Fantasy|Sci-Fi  \n",
      "\n",
      "Please rate this movie on a scale from 1 to 5, where 1 is the worst and 5 is the best... or 'n' to skip this one: 2\n",
      "Thank you! Your rating has been recorded for MOVIE 3:\n",
      "\t{'userId': 700, 'movieId': 71129, 'rating': 2}\n",
      "\n",
      "\n",
      "MOVIE 4:\n",
      "      movieId                                              title  \\\n",
      "7517    84187  Evangelion: 2.0 You Can (Not) Advance (Evanger...   \n",
      "\n",
      "                             genres  \n",
      "7517  Action|Animation|Drama|Sci-Fi  \n",
      "\n",
      "Please rate this movie on a scale from 1 to 5, where 1 is the worst and 5 is the best... or 'n' to skip this one: n\n",
      "\n",
      "MOVIE 4:\n",
      "      movieId                    title               genres\n",
      "1267     1682  Truman Show, The (1998)  Comedy|Drama|Sci-Fi\n",
      "\n",
      "Please rate this movie on a scale from 1 to 5, where 1 is the worst and 5 is the best... or 'n' to skip this one: 5\n",
      "Thank you! Your rating has been recorded for MOVIE 4:\n",
      "\t{'userId': 700, 'movieId': 1682, 'rating': 5}\n",
      "\n",
      "\n",
      "MOVIE 5:\n",
      "      movieId                     title                             genres\n",
      "9697   184987  A Wrinkle in Time (2018)  Adventure|Children|Fantasy|Sci-Fi\n",
      "\n",
      "Please rate this movie on a scale from 1 to 5, where 1 is the worst and 5 is the best... or 'n' to skip this one: 4\n",
      "Thank you! Your rating has been recorded for MOVIE 5:\n",
      "\t{'userId': 700, 'movieId': 184987, 'rating': 4}\n",
      "\n",
      "\n"
     ]
    }
   ],
   "source": [
    "# try out the new function here!\n",
    "# abitrarily set user_id to 700? (anything not currently in the list of existing user_ids)\n",
    "user_id = 700\n",
    "n_movies_to_rate = 5\n",
    "user_scifi_ratings = movie_rater(user_id, n_movies_to_rate, \"sci-fi\")"
   ]
  },
  {
   "cell_type": "markdown",
   "metadata": {},
   "source": [
    "If you're struggling to come up with the above function, you can use this list of user ratings to complete the next segment"
   ]
  },
  {
   "cell_type": "code",
   "execution_count": 18,
   "metadata": {},
   "outputs": [
    {
     "data": {
      "text/plain": [
       "[{'userId': 700, 'movieId': 8830, 'rating': 1},\n",
       " {'userId': 700, 'movieId': 27311, 'rating': 3},\n",
       " {'userId': 700, 'movieId': 71129, 'rating': 2},\n",
       " {'userId': 700, 'movieId': 1682, 'rating': 5},\n",
       " {'userId': 700, 'movieId': 184987, 'rating': 4}]"
      ]
     },
     "execution_count": 18,
     "metadata": {},
     "output_type": "execute_result"
    }
   ],
   "source": [
    "user_scifi_ratings"
   ]
  },
  {
   "cell_type": "markdown",
   "metadata": {},
   "source": [
    "### Making Predictions With the New Ratings\n",
    "Now that you have new ratings, you can use them to make predictions for this new user. The proper way this should work is:\n",
    "\n",
    "* add the new ratings to the original ratings DataFrame, read into a `surprise` dataset \n",
    "* train a model using the new combined DataFrame\n",
    "* make predictions for the user\n",
    "* order those predictions from highest rated to lowest rated\n",
    "* return the top n recommendations with the text of the actual movie (rather than just the index number) "
   ]
  },
  {
   "cell_type": "code",
   "execution_count": 19,
   "metadata": {},
   "outputs": [],
   "source": [
    "## add the new ratings to the original ratings DataFrame\n",
    "df_new_ratings = new_df.append(user_scifi_ratings, ignore_index=True)\n",
    "data_new_ratings = Dataset.load_from_df(df_new_ratings[['userId', 'movieId', 'rating']], reader)\n",
    "dataset_new_ratings = data_new_ratings.build_full_trainset() # comparable to X_train in other sklearn cases"
   ]
  },
  {
   "cell_type": "code",
   "execution_count": 20,
   "metadata": {},
   "outputs": [
    {
     "data": {
      "text/plain": [
       "<surprise.prediction_algorithms.matrix_factorization.SVD at 0x7f99d97f27c0>"
      ]
     },
     "execution_count": 20,
     "metadata": {},
     "output_type": "execute_result"
    }
   ],
   "source": [
    "# train a model using the new combined DataFrame\n",
    "svd = SVD(n_factors= 50, reg_all=0.05)\n",
    "svd.fit(dataset_new_ratings)"
   ]
  },
  {
   "cell_type": "code",
   "execution_count": 21,
   "metadata": {
    "scrolled": false
   },
   "outputs": [],
   "source": [
    "# make predictions for the user\n",
    "# you'll probably want to create a list of tuples in the format (movie_id, predicted_score)\n",
    "movie_preds = []\n",
    "for movie_id in new_df['movieId'].unique():\n",
    "    movie_pred = svd.predict(user_id, movie_id)[3] # we are interested in the \"est\" column (index 3)\n",
    "#     print(f\"SVD predicts user {user_id} would rate movie {movie_id}: {movie_pred}\")\n",
    "    movie_preds.append((movie_id, movie_pred))"
   ]
  },
  {
   "cell_type": "code",
   "execution_count": 22,
   "metadata": {},
   "outputs": [],
   "source": [
    "# order the predictions from highest to lowest rated\n",
    "ranked_movies = sorted(movie_preds, key=lambda mp: mp[1], reverse=True)"
   ]
  },
  {
   "cell_type": "markdown",
   "metadata": {},
   "source": [
    " For the final component of this challenge, it could be useful to create a function `recommended_movies()` that takes in the parameters:\n",
    "* `user_ratings`: list - list of tuples formulated as (user_id, movie_id) (should be in order of best to worst for this individual)\n",
    "* `movie_title_df`: DataFrame \n",
    "* `n`: int - number of recommended movies \n",
    "\n",
    "The function should use a `for` loop to print out each recommended *n* movies in order from best to worst"
   ]
  },
  {
   "cell_type": "code",
   "execution_count": 23,
   "metadata": {},
   "outputs": [
    {
     "name": "stdout",
     "output_type": "stream",
     "text": [
      "based on the 5 ratings user 700 previously provided, I would recommend the following movies:\n",
      "\n",
      "\tShawshank Redemption, The (1994) (GENRES: Crime|Drama)\n",
      "\t\tYour predicted rating: 4.173811185029902\n",
      "\n",
      "\tLawrence of Arabia (1962) (GENRES: Adventure|Drama|War)\n",
      "\t\tYour predicted rating: 4.120472240353197\n",
      "\n",
      "\tGrave of the Fireflies (Hotaru no haka) (1988) (GENRES: Animation|Drama|War)\n",
      "\t\tYour predicted rating: 4.11464784830353\n",
      "\n",
      "\tStreetcar Named Desire, A (1951) (GENRES: Drama)\n",
      "\t\tYour predicted rating: 4.104051211815716\n",
      "\n",
      "\tWallace & Gromit: The Best of Aardman Animation (1996) (GENRES: Adventure|Animation|Comedy)\n",
      "\t\tYour predicted rating: 4.103077134442632\n",
      "\n"
     ]
    }
   ],
   "source": [
    "# return the top n recommendations using the \n",
    "def recommended_movies(user_ratings, movie_title_df, n):\n",
    "    print(f\"based on the {n_movies_to_rate} ratings user {user_id} previously provided, I would recommend the following movies:\\n\")\n",
    "    for recommended_movie in user_ratings[0:n]:\n",
    "        movie_details = movie_title_df.query(f\"movieId=={recommended_movie[0]}\")\n",
    "        print(f\"\\t{movie_details.title.values[0]} (GENRES: {movie_details.genres.values[0]})\\n\\t\\tYour predicted rating: {recommended_movie[1]}\\n\")\n",
    "            \n",
    "recommended_movies(ranked_movies, df_movies, 5)"
   ]
  },
  {
   "cell_type": "markdown",
   "metadata": {},
   "source": [
    "## Level Up (Optional)\n",
    "\n",
    "* Try and chain all of the steps together into one function that asks users for ratings for a certain number of movies, then all of the above steps are performed to return the top $n$ recommendations\n",
    "* Make a recommender system that only returns items that come from a specified genre"
   ]
  },
  {
   "cell_type": "markdown",
   "metadata": {},
   "source": [
    "## Summary\n",
    "\n",
    "In this lab, you got the chance to implement a collaborative filtering model as well as retrieve recommendations from that model. You also got the opportunity to add your own recommendations to the system to get new recommendations for yourself! Next, you will learn how to use Spark to make recommender systems."
   ]
  }
 ],
 "metadata": {
  "kernelspec": {
   "display_name": "Python 3",
   "language": "python",
   "name": "python3"
  },
  "language_info": {
   "codemirror_mode": {
    "name": "ipython",
    "version": 3
   },
   "file_extension": ".py",
   "mimetype": "text/x-python",
   "name": "python",
   "nbconvert_exporter": "python",
   "pygments_lexer": "ipython3",
   "version": "3.8.5"
  },
  "toc": {
   "base_numbering": 1,
   "nav_menu": {},
   "number_sections": true,
   "sideBar": true,
   "skip_h1_title": false,
   "title_cell": "Table of Contents",
   "title_sidebar": "Contents",
   "toc_cell": false,
   "toc_position": {},
   "toc_section_display": true,
   "toc_window_display": false
  }
 },
 "nbformat": 4,
 "nbformat_minor": 4
}
